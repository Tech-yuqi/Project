{
 "cells": [
  {
   "cell_type": "code",
   "execution_count": 57,
   "id": "0e93541a-4cfa-44fc-853b-85e7c6fa6bb6",
   "metadata": {},
   "outputs": [],
   "source": [
    "import requests\n",
    "from bs4 import BeautifulSoup\n",
    "import pandas as pd"
   ]
  },
  {
   "cell_type": "markdown",
   "id": "1a2b1d10-c85b-43ae-bd61-0c8d4991e1bd",
   "metadata": {},
   "source": [
    "## Final Project Yuqi Liu"
   ]
  },
  {
   "cell_type": "markdown",
   "id": "8cee9d23-5486-4c57-b575-6e055ed2c6a2",
   "metadata": {},
   "source": [
    "## Introdution"
   ]
  },
  {
   "cell_type": "markdown",
   "id": "b01ea9e5-11d6-43b4-9420-214ac499952d",
   "metadata": {},
   "source": [
    "* **Data Source**: Text Data (unstructured data) scraped from Game Spot, a famous Game News Website\n",
    "* **Purpose**: It is very costly to maintain exclusive game releases and intellectual property for a platform, so the games supported by each platform may vary from year to year. By analyzing the 2022 game release article, this project will update the game landscape so that gamers can select the most appropriate platform for the 2023 and discount seasons.\n",
    "* **Question Answered by the project**: Which platforms Gamers should consider purchasing to play their desired games ?\n",
    "* **Conclusion**: Despite dramatic industry mergers, there are still more games that can be played on both console and PC than on both consoles. 72% of games are supported by the PC, making it an excellent platform for the majority of gamers. Nonetheless, both PlayStation and Xbox have exclusive games. If you have a favorite IP or game developer, you may need to check the exclusive game list and purchase the required platform. The number of games between the older and newer console versions is relatively small. Players would be able to make a decision based on the trade-off between gaming experiences and price, with less need to consider game differences."
   ]
  },
  {
   "cell_type": "code",
   "execution_count": 65,
   "id": "e7ca9936-f721-42ad-b305-283a7fc9491b",
   "metadata": {},
   "outputs": [
    {
     "name": "stdout",
     "output_type": "stream",
     "text": [
      "platform\n",
      "Android             12\n",
      "Mac                  5\n",
      "Nintendo Switch    141\n",
      "PC                 268\n",
      "PS4                146\n",
      "PS5                139\n",
      "Stadia               8\n",
      "VR                   5\n",
      "Xbox One           142\n",
      "Xbox Series X/S    147\n",
      "iOS                 15\n",
      "Name: title, dtype: int64\n"
     ]
    },
    {
     "name": "stderr",
     "output_type": "stream",
     "text": [
      "<ipython-input-65-7a425e34d2e9>:33: FutureWarning: The default value of regex will change from True to False in a future version.\n",
      "  df_new['platform'] = df_new['platform'].str.replace(',', '').str.replace(r'\\(|\\)', '')\n"
     ]
    }
   ],
   "source": [
    "# Send a GET request to the website\n",
    "url = \"https://www.gamespot.com/articles/every-game-released-in-2022/1100-6499287/\"\n",
    "response = requests.get(url)\n",
    "\n",
    "# Parse the HTML content using BeautifulSoup\n",
    "soup = BeautifulSoup(response.content, \"html.parser\")\n",
    "\n",
    "# Find all the paragraphs in the HTML\n",
    "paragraphs = soup.find_all(\"p\")\n",
    "\n",
    "# Create a list to store the scraped data\n",
    "data = []\n",
    "\n",
    "# Loop through each paragraph and find all the game titles\n",
    "for p in paragraphs:\n",
    "    for title in p.find_all(\"a\"):\n",
    "        for platform in p.find_all('em'):\n",
    "            data.append({\"title\": title.get_text(),\n",
    "                         \"platform\": platform.get_text().strip()})\n",
    "\n",
    "# Create a data frame from the scraped data\n",
    "df = pd.DataFrame(data)\n",
    "\n",
    "# Split the platform column by comma and add a new row for each parted value\n",
    "df_new = pd.DataFrame(df['platform'].str.split(', ').tolist(), index=df['title']).stack()\n",
    "df_new = df_new.reset_index([0, 'title'])\n",
    "df_new.columns = ['title', 'platform']\n",
    "\n",
    "# Clean up the platform names\n",
    "df_new['platform'] = df_new['platform'].str.strip('() ')\n",
    "\n",
    "# Remove comma and parentheses from platform names\n",
    "df_new['platform'] = df_new['platform'].str.replace(',', '').str.replace(r'\\(|\\)', '')\n",
    "\n",
    "# Remove the '-' character from platform names\n",
    "df_new['platform'] = df_new['platform'].str.replace('-', '')\n",
    "\n",
    "# Adjust the platform name\n",
    "df_new['platform'] = df_new['platform'].replace({\n",
    "    'PC VR': 'PC',\n",
    "    'Xbox One': 'Xbox One',\n",
    "    'box One': 'Xbox One',\n",
    "    'Xbox Series X/S|Windows': 'Xbox Series X/S',\n",
    "    'Xbox Series X/S': 'Xbox Series X/S',\n",
    "    'Xbox Series X': 'Xbox Series X/S',\n",
    "    'Xbox Series X|S': 'Xbox Series X/S',\n",
    "    'Nintendo Switch Nintendo Switch Switch': 'Nintendo Switch',\n",
    "    'Nintendo': 'Nintendo Switch',\n",
    "    'Nintendo Switch Switch': 'Nintendo Switch',\n",
    "    'Nintendo Switch Switch  November 11': 'Nintendo Switch',\n",
    "    'Switch': 'Nintendo Switch',\n",
    "    'Switch  June 1 ': 'Nintendo Switch',\n",
    "    'Switch': 'Nintendo Switch',\n",
    "    'Switch  November 11': 'Nintendo Switch',\n",
    "    'Switch PC': 'Nintendo Switch',\n",
    "    'PlayStation 4': 'PS4',\n",
    "    'PlayStation 5': 'PS5',\n",
    "    'Apple Arcade': 'iOS',\n",
    "    'Oculus Quest 2': 'VR',\n",
    "    'Quest 2': 'VR',\n",
    "    'PlayStation VR': 'VR'\n",
    "    \n",
    "})\n",
    "\n",
    "# Count the number of unique titles for each platform\n",
    "platform_counts = df_new.groupby('platform')['title'].nunique()\n",
    "\n",
    "# Filter the platform counts where count >= 5. \n",
    "# There are a few mobile and VR games that I choose not to discuss in this project\n",
    "platform_counts = platform_counts[platform_counts >= 5]\n",
    "\n",
    "# Display the platform counts\n",
    "print(platform_counts)"
   ]
  },
  {
   "cell_type": "markdown",
   "id": "10d0ef79-2d1f-4a99-bb15-e86f38426ff4",
   "metadata": {},
   "source": [
    "### The Cleaned data "
   ]
  },
  {
   "cell_type": "code",
   "execution_count": 64,
   "id": "7e885fcc-5b19-43dc-9ff2-fc08763c5558",
   "metadata": {},
   "outputs": [
    {
     "data": {
      "text/html": [
       "<div>\n",
       "<style scoped>\n",
       "    .dataframe tbody tr th:only-of-type {\n",
       "        vertical-align: middle;\n",
       "    }\n",
       "\n",
       "    .dataframe tbody tr th {\n",
       "        vertical-align: top;\n",
       "    }\n",
       "\n",
       "    .dataframe thead th {\n",
       "        text-align: right;\n",
       "    }\n",
       "</style>\n",
       "<table border=\"1\" class=\"dataframe\">\n",
       "  <thead>\n",
       "    <tr style=\"text-align: right;\">\n",
       "      <th></th>\n",
       "      <th>title</th>\n",
       "      <th>platform</th>\n",
       "    </tr>\n",
       "  </thead>\n",
       "  <tbody>\n",
       "    <tr>\n",
       "      <th>0</th>\n",
       "      <td>Monster Hunter Rise</td>\n",
       "      <td>PC</td>\n",
       "    </tr>\n",
       "    <tr>\n",
       "      <th>1</th>\n",
       "      <td>The Anacrusis</td>\n",
       "      <td>Xbox Series X/S</td>\n",
       "    </tr>\n",
       "    <tr>\n",
       "      <th>2</th>\n",
       "      <td>The Anacrusis</td>\n",
       "      <td>Xbox One</td>\n",
       "    </tr>\n",
       "    <tr>\n",
       "      <th>3</th>\n",
       "      <td>The Anacrusis</td>\n",
       "      <td>PC</td>\n",
       "    </tr>\n",
       "    <tr>\n",
       "      <th>4</th>\n",
       "      <td>God of War</td>\n",
       "      <td>PC</td>\n",
       "    </tr>\n",
       "    <tr>\n",
       "      <th>...</th>\n",
       "      <td>...</td>\n",
       "      <td>...</td>\n",
       "    </tr>\n",
       "    <tr>\n",
       "      <th>1063</th>\n",
       "      <td>Yu-Gi-Oh! Master Duel</td>\n",
       "      <td>Xbox One</td>\n",
       "    </tr>\n",
       "    <tr>\n",
       "      <th>1064</th>\n",
       "      <td>Yu-Gi-Oh! Master Duel</td>\n",
       "      <td>Nintendo Switch</td>\n",
       "    </tr>\n",
       "    <tr>\n",
       "      <th>1065</th>\n",
       "      <td>Yu-Gi-Oh! Master Duel</td>\n",
       "      <td>PC</td>\n",
       "    </tr>\n",
       "    <tr>\n",
       "      <th>1066</th>\n",
       "      <td>Yu-Gi-Oh! Master Duel</td>\n",
       "      <td>iOS</td>\n",
       "    </tr>\n",
       "    <tr>\n",
       "      <th>1067</th>\n",
       "      <td>Yu-Gi-Oh! Master Duel</td>\n",
       "      <td>Android</td>\n",
       "    </tr>\n",
       "  </tbody>\n",
       "</table>\n",
       "<p>1068 rows × 2 columns</p>\n",
       "</div>"
      ],
      "text/plain": [
       "                      title         platform\n",
       "0       Monster Hunter Rise               PC\n",
       "1             The Anacrusis  Xbox Series X/S\n",
       "2             The Anacrusis         Xbox One\n",
       "3             The Anacrusis               PC\n",
       "4                God of War               PC\n",
       "...                     ...              ...\n",
       "1063  Yu-Gi-Oh! Master Duel         Xbox One\n",
       "1064  Yu-Gi-Oh! Master Duel  Nintendo Switch\n",
       "1065  Yu-Gi-Oh! Master Duel               PC\n",
       "1066  Yu-Gi-Oh! Master Duel              iOS\n",
       "1067  Yu-Gi-Oh! Master Duel          Android\n",
       "\n",
       "[1068 rows x 2 columns]"
      ]
     },
     "execution_count": 64,
     "metadata": {},
     "output_type": "execute_result"
    }
   ],
   "source": [
    "df_new"
   ]
  },
  {
   "cell_type": "markdown",
   "id": "03955ef8-5666-4a8b-86a2-3e226fd3cfb1",
   "metadata": {},
   "source": [
    "## Explortive Data Analysis"
   ]
  },
  {
   "cell_type": "markdown",
   "id": "7e147567-3a7f-46a4-b1cd-f8afd6526268",
   "metadata": {},
   "source": [
    "### Percentage of Games supported PC"
   ]
  },
  {
   "cell_type": "code",
   "execution_count": 46,
   "id": "d8b5a398-3dd3-40e8-a61d-b3a07defbf79",
   "metadata": {},
   "outputs": [
    {
     "data": {
      "text/plain": [
       "0.7165775401069518"
      ]
     },
     "execution_count": 46,
     "metadata": {},
     "output_type": "execute_result"
    }
   ],
   "source": [
    "268/374"
   ]
  },
  {
   "cell_type": "markdown",
   "id": "4ad55a8d-b887-44b2-aee5-6d92fdf6b4cb",
   "metadata": {},
   "source": [
    "## Compare PlayStation and Xbox"
   ]
  },
  {
   "cell_type": "markdown",
   "id": "1d517142-ea56-49b2-8d05-5f65069b34cb",
   "metadata": {},
   "source": [
    "### Number of games exclusive to Xbox One and Xbox Series X/S:"
   ]
  },
  {
   "cell_type": "code",
   "execution_count": 47,
   "id": "7eeb3b10-f59f-47d6-aa38-30a457cd7ef8",
   "metadata": {},
   "outputs": [
    {
     "name": "stdout",
     "output_type": "stream",
     "text": [
      "Number of games exclusive to Xbox One and Xbox Series X/S: 169\n"
     ]
    }
   ],
   "source": [
    "# Create a subset of the original DataFrame for Xbox One and Xbox Series X/S platforms\n",
    "xbox_subset = df_new[df_new['platform'].isin(['Xbox One', 'Xbox Series X/S'])]\n",
    "\n",
    "# Filter the subset to include only the games not available on PS5 or PS4\n",
    "xbox_exclusive = xbox_subset[~xbox_subset['platform'].isin(['PS5', 'PS4'])]\n",
    "\n",
    "# Count the number of unique titles in the filtered subset\n",
    "xbox_exclusive_count = xbox_exclusive['title'].nunique()\n",
    "\n",
    "# Print the result\n",
    "print(\"Number of games exclusive to Xbox One and Xbox Series X/S:\", xbox_exclusive_count)\n"
   ]
  },
  {
   "cell_type": "markdown",
   "id": "beb366db-0a3d-4684-a796-933023a79a0a",
   "metadata": {},
   "source": [
    "### Names of the Exclusive Games on Xbox One and X/S"
   ]
  },
  {
   "cell_type": "code",
   "execution_count": 55,
   "id": "7d909add-2551-4f35-8924-83c1af52f9ca",
   "metadata": {},
   "outputs": [
    {
     "name": "stdout",
     "output_type": "stream",
     "text": [
      "1                                          The Anacrusis\n",
      "5                                 Nobody Saves the World\n",
      "47                                            CrossfireX\n",
      "132                                            Shredders\n",
      "178                     Babylon's Fall: Ultimate Edition\n",
      "232     Microsoft Flight Simulator: Top Gun Maverick DLC\n",
      "262                         Fall Guys: Ultimate Knockout\n",
      "265                                   Naraka: Bladepoint\n",
      "314                                  PowerWash Simulator\n",
      "324                                        As Dusk Falls\n",
      "330                       Forza Horizon 5 Hot Wheels DLC\n",
      "390                                    Tribes of Midgard\n",
      "419                                               Islets\n",
      "440                                          Immortality\n",
      "479                                           Family Man\n",
      "522                                      Slime Rancher 2\n",
      "533                                             Grounded\n",
      "569                                                Scorn\n",
      "596                                        Phantom Abyss\n",
      "605                                      Persona 5 Royal\n",
      "672                                            Pentiment\n",
      "713                                         High on Life\n",
      "749                                          BattleCakes\n",
      "813                                             ExoMecha\n",
      "844                                     Hello Neighbor 2\n",
      "869                                              Lab Rat\n",
      "873                                 Last Days of Lazarus\n",
      "886                                           Loot River\n",
      "906                                        Party Animals\n",
      "950                       RPG Time! The Legend of Wright\n",
      "964                           Senua's Saga: Hellblade II\n",
      "966                                    Second Extinction\n",
      "969                                              Session\n",
      "971                                 She Dreams Elsewhere\n",
      "979                                           Somerville\n",
      "992                                             Soup Pot\n",
      "1002                                    Super Space Club\n",
      "1050                               We Are The Caretakers\n",
      "Name: title, dtype: object\n"
     ]
    }
   ],
   "source": [
    "# Create a new dataframe with only Xbox One and Xbox Series X/S platforms\n",
    "xbox_df = df_new[df_new['platform'].isin(['Xbox One', 'Xbox Series X/S'])]\n",
    "\n",
    "# Filter out the games that are also available on PS4 or PS5 platforms\n",
    "exclusive_games = xbox_df.loc[(~xbox_df['title'].isin(df_new[df_new['platform'].isin(['PS4', 'PS5'])]['title']))]['title']\n",
    "\n",
    "exclusive_games = exclusive_games.drop_duplicates()\n",
    "# Print out the names of the exclusive games\n",
    "print(exclusive_games)"
   ]
  },
  {
   "cell_type": "markdown",
   "id": "fbd98117-234a-4e18-83c9-ec2f77c0549c",
   "metadata": {},
   "source": [
    "### Number of Games Exclusive to PS5 and PS4:"
   ]
  },
  {
   "cell_type": "code",
   "execution_count": 49,
   "id": "58434246-4218-4f66-ba83-c6322b7898d6",
   "metadata": {},
   "outputs": [
    {
     "name": "stdout",
     "output_type": "stream",
     "text": [
      "Number of games exclusive to PS 5 and PS 4: 166\n"
     ]
    }
   ],
   "source": [
    "# Create a subset of the original DataFrame for PS5 and PS4 platforms\n",
    "xbox_subset = df_new[df_new['platform'].isin(['PS5', 'PS4'])]\n",
    "\n",
    "# Filter the subset to include only the games not available on PS5 or PS4\n",
    "xbox_exclusive = xbox_subset[~xbox_subset['platform'].isin(['Xbox One', 'Xbox Series X/S'])]\n",
    "\n",
    "# Count the number of unique titles in the filtered subset\n",
    "xbox_exclusive_count = xbox_exclusive['title'].nunique()\n",
    "\n",
    "# Print the result\n",
    "print(\"Number of games exclusive to PS 5 and PS 4:\", xbox_exclusive_count)"
   ]
  },
  {
   "cell_type": "markdown",
   "id": "4c08518c-d84b-4cde-a6be-689848434068",
   "metadata": {},
   "source": [
    "### Games Exclusive to PS5 and PS4:"
   ]
  },
  {
   "cell_type": "code",
   "execution_count": 56,
   "id": "036d1303-3c74-49db-b713-13dfcbc0b2e4",
   "metadata": {},
   "outputs": [
    {
     "name": "stdout",
     "output_type": "stream",
     "text": [
      "24               Uncharted: Legacy of Thieves Collection\n",
      "38                                                  Sifu\n",
      "66                                Horizon Forbidden West\n",
      "80                                                Monark\n",
      "84                                            Sol Cresta\n",
      "110                                       Babylon's Fall\n",
      "113                                       Gran Turismo 7\n",
      "127                                   Grand Theft Auto V\n",
      "134                              Persona 4 Arena Ultimax\n",
      "136                                     Anno: Mutationem\n",
      "146                                     GhostWire: Tokyo\n",
      "190                  Vampire: The Masquerade - Bloodhunt\n",
      "205                                   Salt and Sacrifice\n",
      "266                       Little Noah: Scion of Paradise\n",
      "269                                             DNF Duel\n",
      "327                                                Stray\n",
      "361                                             GigaBash\n",
      "377                                     Cult of the Lamb\n",
      "387                                          Rollerdrome\n",
      "404                                           We Are OFK\n",
      "453                                The Last of Us Part 1\n",
      "458               The Tomorrow Children: Phoenix Edition\n",
      "476                 Voice of Cards: The Beasts of Burden\n",
      "547                                     Valkyrie Elysium\n",
      "661                                  God of War Ragnarok\n",
      "667                                  Tactics Ogre Reborn\n",
      "738                                            Asterigos\n",
      "752                                       Blazing Strike\n",
      "764                                             Boundary\n",
      "777                               Deathverse: Let It Die\n",
      "798    Doraemon Story of Seasons: Friends of the Grea...\n",
      "801                          Dungeon Defenders: Awakened\n",
      "821                                 Goodbye Volcano High\n",
      "899                                         Necrobarista\n",
      "900                                           Open Roads\n",
      "Name: title, dtype: object\n"
     ]
    }
   ],
   "source": [
    "# Create a new dataframe with only Xbox One and Xbox Series X/S platforms\n",
    "PS_df = df_new[df_new['platform'].isin(['PS5', 'PS4'])]\n",
    "\n",
    "# Filter out the games that are also available on Xbox One and Xbox Series X/S  platforms\n",
    "exclusive_games = PS_df.loc[(~PS_df['title'].isin(df_new[df_new['platform'].isin(['Xbox One', 'Xbox Series X/S'])]['title']))]['title']\n",
    "\n",
    "exclusive_games = exclusive_games.drop_duplicates()\n",
    "# Print out the names of the exclusive games\n",
    "print(exclusive_games)"
   ]
  },
  {
   "cell_type": "code",
   "execution_count": null,
   "id": "46170e58-ea70-4b4d-addc-761c70bfb3aa",
   "metadata": {},
   "outputs": [],
   "source": []
  }
 ],
 "metadata": {
  "kernelspec": {
   "display_name": "Python 3",
   "language": "python",
   "name": "python3"
  },
  "language_info": {
   "codemirror_mode": {
    "name": "ipython",
    "version": 3
   },
   "file_extension": ".py",
   "mimetype": "text/x-python",
   "name": "python",
   "nbconvert_exporter": "python",
   "pygments_lexer": "ipython3",
   "version": "3.8.8"
  }
 },
 "nbformat": 4,
 "nbformat_minor": 5
}
